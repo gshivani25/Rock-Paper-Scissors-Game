{
 "cells": [
  {
   "cell_type": "code",
   "execution_count": null,
   "id": "64ce37f4-507a-48e6-975e-09ad9355c04d",
   "metadata": {},
   "outputs": [
    {
     "name": "stdout",
     "output_type": "stream",
     "text": [
      "\n",
      "Welcome to Rock-Paper-Scissors!\n",
      "Choose: 'rock', 'paper', or 'scissors'. To quit, type 'quit'.\n"
     ]
    },
    {
     "name": "stdin",
     "output_type": "stream",
     "text": [
      "Your choice:  rock\n"
     ]
    },
    {
     "name": "stdout",
     "output_type": "stream",
     "text": [
      "Computer's choice: rock\n",
      "It's a tie!\n",
      "Your score: 0, Computer's score: 0\n"
     ]
    },
    {
     "name": "stdin",
     "output_type": "stream",
     "text": [
      "Do you want to play again? (yes/no):  yes\n"
     ]
    },
    {
     "name": "stdout",
     "output_type": "stream",
     "text": [
      "\n",
      "Welcome to Rock-Paper-Scissors!\n",
      "Choose: 'rock', 'paper', or 'scissors'. To quit, type 'quit'.\n"
     ]
    },
    {
     "name": "stdin",
     "output_type": "stream",
     "text": [
      "Your choice:  scissor\n"
     ]
    },
    {
     "name": "stdout",
     "output_type": "stream",
     "text": [
      "Invalid choice. Please choose again.\n",
      "\n",
      "Welcome to Rock-Paper-Scissors!\n",
      "Choose: 'rock', 'paper', or 'scissors'. To quit, type 'quit'.\n"
     ]
    },
    {
     "name": "stdin",
     "output_type": "stream",
     "text": [
      "Your choice:  scissor\n"
     ]
    },
    {
     "name": "stdout",
     "output_type": "stream",
     "text": [
      "Invalid choice. Please choose again.\n",
      "\n",
      "Welcome to Rock-Paper-Scissors!\n",
      "Choose: 'rock', 'paper', or 'scissors'. To quit, type 'quit'.\n"
     ]
    },
    {
     "name": "stdin",
     "output_type": "stream",
     "text": [
      "Your choice:  paper\n"
     ]
    },
    {
     "name": "stdout",
     "output_type": "stream",
     "text": [
      "Computer's choice: rock\n",
      "You win!\n",
      "Your score: 1, Computer's score: 0\n"
     ]
    },
    {
     "name": "stdin",
     "output_type": "stream",
     "text": [
      "Do you want to play again? (yes/no):  yes\n"
     ]
    },
    {
     "name": "stdout",
     "output_type": "stream",
     "text": [
      "\n",
      "Welcome to Rock-Paper-Scissors!\n",
      "Choose: 'rock', 'paper', or 'scissors'. To quit, type 'quit'.\n"
     ]
    },
    {
     "name": "stdin",
     "output_type": "stream",
     "text": [
      "Your choice:  scissors\n"
     ]
    },
    {
     "name": "stdout",
     "output_type": "stream",
     "text": [
      "Computer's choice: rock\n",
      "You lose!\n",
      "Your score: 1, Computer's score: 1\n"
     ]
    },
    {
     "name": "stdin",
     "output_type": "stream",
     "text": [
      "Do you want to play again? (yes/no):  yes\n"
     ]
    },
    {
     "name": "stdout",
     "output_type": "stream",
     "text": [
      "\n",
      "Welcome to Rock-Paper-Scissors!\n",
      "Choose: 'rock', 'paper', or 'scissors'. To quit, type 'quit'.\n"
     ]
    },
    {
     "name": "stdin",
     "output_type": "stream",
     "text": [
      "Your choice:  paper\n"
     ]
    },
    {
     "name": "stdout",
     "output_type": "stream",
     "text": [
      "Computer's choice: rock\n",
      "You win!\n",
      "Your score: 2, Computer's score: 1\n"
     ]
    }
   ],
   "source": [
    "import random\n",
    "\n",
    "def determine_winner(user_choice, computer_choice):\n",
    "    if user_choice == computer_choice:\n",
    "        return \"It's a tie!\"\n",
    "    elif (user_choice == 'rock' and computer_choice == 'scissors') or \\\n",
    "         (user_choice == 'paper' and computer_choice == 'rock') or \\\n",
    "         (user_choice == 'scissors' and computer_choice == 'paper'):\n",
    "        return \"You win!\"\n",
    "    else:\n",
    "        return \"You lose!\"\n",
    "\n",
    "def main():\n",
    "    user_score = 0\n",
    "    computer_score = 0\n",
    "\n",
    "    while True:\n",
    "        print(\"\\nWelcome to Rock-Paper-Scissors!\")\n",
    "        print(\"Choose: 'rock', 'paper', or 'scissors'. To quit, type 'quit'.\")\n",
    "        user_choice = input(\"Your choice: \").lower()\n",
    "\n",
    "        if user_choice == 'quit':\n",
    "            print(\"Thanks for playing!\")\n",
    "            break\n",
    "\n",
    "        if user_choice not in ['rock', 'paper', 'scissors']:\n",
    "            print(\"Invalid choice. Please choose again.\")\n",
    "            continue\n",
    "\n",
    "        computer_choice = random.choice(['rock', 'paper', 'scissors'])\n",
    "        print(f\"Computer's choice: {computer_choice}\")\n",
    "\n",
    "        result = determine_winner(user_choice, computer_choice)\n",
    "        print(result)\n",
    "\n",
    "        if result == \"You win!\":\n",
    "            user_score += 1\n",
    "        elif result == \"You lose!\":\n",
    "            computer_score += 1\n",
    "\n",
    "        print(f\"Your score: {user_score}, Computer's score: {computer_score}\")\n",
    "\n",
    "        play_again = input(\"Do you want to play again? (yes/no): \").lower()\n",
    "        if play_again != 'yes':\n",
    "            print(\"Thanks for playing!\")\n",
    "            break\n",
    "\n",
    "if __name__ == \"__main__\":\n",
    "    main()\n"
   ]
  },
  {
   "cell_type": "code",
   "execution_count": null,
   "id": "69e6085d-46f1-40c6-bfb5-0345b4fe3e17",
   "metadata": {},
   "outputs": [],
   "source": []
  }
 ],
 "metadata": {
  "kernelspec": {
   "display_name": "Python 3 (ipykernel)",
   "language": "python",
   "name": "python3"
  },
  "language_info": {
   "codemirror_mode": {
    "name": "ipython",
    "version": 3
   },
   "file_extension": ".py",
   "mimetype": "text/x-python",
   "name": "python",
   "nbconvert_exporter": "python",
   "pygments_lexer": "ipython3",
   "version": "3.11.5"
  }
 },
 "nbformat": 4,
 "nbformat_minor": 5
}
